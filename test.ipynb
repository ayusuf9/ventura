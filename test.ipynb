{
 "cells": [
  {
   "cell_type": "code",
   "execution_count": null,
   "metadata": {},
   "outputs": [],
   "source": [
    "import dash\n",
    "import urllib\n",
    "import numpy as np\n",
    "import pandas as pd\n",
    "import plotly.express as px\n",
    "import plotly.graph_objects as go\n",
    "from dash.dependencies import Output, Input, State\n",
    "from dash.exceptions import PreventUpdate\n",
    "import boto3\n",
    "\n",
    "# Import your custom modules\n",
    "from support_functions.load_data import LoadData\n",
    "from support_functions import utils\n",
    "from controls import QH_APPDATA_BUCKET_NAME, S3_RESOURCE"
   ]
  },
  {
   "cell_type": "code",
   "execution_count": null,
   "metadata": {},
   "outputs": [],
   "source": [
    "# Make sure you have the necessary AWS credentials set up\n",
    "s3_resource = boto3.resource('s3')"
   ]
  },
  {
   "cell_type": "code",
   "execution_count": null,
   "metadata": {},
   "outputs": [],
   "source": [
    "# Use your actual prefix\n",
    "prefix = \"appdata/users/dlqs/riskvalspline/output_\"\n",
    "\n",
    "# Get the latest date (you may need to adjust this based on your actual data structure)\n",
    "my_bucket = s3_resource.Bucket(QH_APPDATA_BUCKET_NAME)\n",
    "all_runs = []\n",
    "for run in my_bucket.objects.filter(Prefix=\"appdata/users/dlqs/riskvalspline\"):\n",
    "    if len(run.key.split(\"_\")) > 1:\n",
    "        key = run.key.split(\"_\")[1]\n",
    "        key = key.split(\".\")[0]\n",
    "        all_runs.append(key)\n",
    "all_runs.sort(reverse=True)\n",
    "latest_date = all_runs[0]\n",
    "\n",
    "# Load the data\n",
    "filename = prefix + latest_date + \".json\"\n",
    "data_loader = LoadData(Key=filename)\n",
    "\n",
    "# Now you can access big_df2\n",
    "big_df2_all = data_loader.big_df2_dict[\"ALL\"]\n",
    "print(big_df2_all.head())"
   ]
  },
  {
   "cell_type": "code",
   "execution_count": null,
   "metadata": {},
   "outputs": [],
   "source": [
    "# Print column names\n",
    "print(big_df2_all.columns)\n",
    "\n",
    "# Get basic statistics\n",
    "print(big_df2_all.describe())\n",
    "\n",
    "# Check unique values in certain columns\n",
    "print(big_df2_all['Position'].unique())\n",
    "print(big_df2_all['Original series'].unique())\n",
    "\n",
    "# You can query specific portions of the data\n",
    "overweight_bonds = big_df2_all[big_df2_all['Position'] == 'overweight']\n",
    "print(overweight_bonds.head())"
   ]
  },
  {
   "cell_type": "code",
   "execution_count": null,
   "metadata": {},
   "outputs": [],
   "source": [
    "# For example, testing the update_scatter_plot function\n",
    "key = \"ALL\"\n",
    "column = \"Fed Hold %\"\n",
    "relay_data = None\n",
    "figure_obj = go.Figure()\n",
    "data = ''\n",
    "\n",
    "fig, csv_string, download_filename, table_data, krd = update_scatter_plot(figure_obj, data, key, relay_data, column)\n",
    "\n",
    "# Display the figure\n",
    "fig.show()\n",
    "\n",
    "# Print other outputs\n",
    "print(\"Download filename:\", download_filename)\n",
    "print(\"Table data:\", table_data)\n",
    "print(\"KRD:\", krd)"
   ]
  }
 ],
 "metadata": {
  "language_info": {
   "name": "python"
  }
 },
 "nbformat": 4,
 "nbformat_minor": 2
}
